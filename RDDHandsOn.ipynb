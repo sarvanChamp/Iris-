{
  "nbformat": 4,
  "nbformat_minor": 0,
  "metadata": {
    "colab": {
      "provenance": [],
      "authorship_tag": "ABX9TyNURV439LbIp4lFrks+kkU2",
      "include_colab_link": true
    },
    "kernelspec": {
      "name": "python3",
      "display_name": "Python 3"
    },
    "language_info": {
      "name": "python"
    }
  },
  "cells": [
    {
      "cell_type": "markdown",
      "metadata": {
        "id": "view-in-github",
        "colab_type": "text"
      },
      "source": [
        "<a href=\"https://colab.research.google.com/github/sarvanChamp/Iris-/blob/main/RDDHandsOn.ipynb\" target=\"_parent\"><img src=\"https://colab.research.google.com/assets/colab-badge.svg\" alt=\"Open In Colab\"/></a>"
      ]
    },
    {
      "cell_type": "code",
      "execution_count": null,
      "metadata": {
        "colab": {
          "base_uri": "https://localhost:8080/"
        },
        "id": "WIth8iB5ZhaS",
        "outputId": "856a61ac-9a61-428a-b4e9-e3695ed208ae"
      },
      "outputs": [
        {
          "output_type": "stream",
          "name": "stdout",
          "text": [
            "Requirement already satisfied: pyspark in /usr/local/lib/python3.11/dist-packages (3.5.1)\n",
            "Requirement already satisfied: py4j==0.10.9.7 in /usr/local/lib/python3.11/dist-packages (from pyspark) (0.10.9.7)\n"
          ]
        }
      ],
      "source": [
        "!pip install pyspark"
      ]
    },
    {
      "cell_type": "code",
      "source": [
        "from pyspark.sql import SparkSession\n",
        "from pyspark.sql.functions import col,to_date\n",
        "\n"
      ],
      "metadata": {
        "id": "sXs3c4M7QbwD"
      },
      "execution_count": null,
      "outputs": []
    },
    {
      "cell_type": "code",
      "source": [
        "from google.colab import files\n",
        "uploaded=files.upload()"
      ],
      "metadata": {
        "colab": {
          "base_uri": "https://localhost:8080/",
          "height": 73
        },
        "id": "G3M4pv8NS3NC",
        "outputId": "a826af1e-4d13-4de1-98ec-a1c3689cc310"
      },
      "execution_count": null,
      "outputs": [
        {
          "output_type": "display_data",
          "data": {
            "text/plain": [
              "<IPython.core.display.HTML object>"
            ],
            "text/html": [
              "\n",
              "     <input type=\"file\" id=\"files-373452b9-3a6b-44f1-99f1-2099dbf346eb\" name=\"files[]\" multiple disabled\n",
              "        style=\"border:none\" />\n",
              "     <output id=\"result-373452b9-3a6b-44f1-99f1-2099dbf346eb\">\n",
              "      Upload widget is only available when the cell has been executed in the\n",
              "      current browser session. Please rerun this cell to enable.\n",
              "      </output>\n",
              "      <script>// Copyright 2017 Google LLC\n",
              "//\n",
              "// Licensed under the Apache License, Version 2.0 (the \"License\");\n",
              "// you may not use this file except in compliance with the License.\n",
              "// You may obtain a copy of the License at\n",
              "//\n",
              "//      http://www.apache.org/licenses/LICENSE-2.0\n",
              "//\n",
              "// Unless required by applicable law or agreed to in writing, software\n",
              "// distributed under the License is distributed on an \"AS IS\" BASIS,\n",
              "// WITHOUT WARRANTIES OR CONDITIONS OF ANY KIND, either express or implied.\n",
              "// See the License for the specific language governing permissions and\n",
              "// limitations under the License.\n",
              "\n",
              "/**\n",
              " * @fileoverview Helpers for google.colab Python module.\n",
              " */\n",
              "(function(scope) {\n",
              "function span(text, styleAttributes = {}) {\n",
              "  const element = document.createElement('span');\n",
              "  element.textContent = text;\n",
              "  for (const key of Object.keys(styleAttributes)) {\n",
              "    element.style[key] = styleAttributes[key];\n",
              "  }\n",
              "  return element;\n",
              "}\n",
              "\n",
              "// Max number of bytes which will be uploaded at a time.\n",
              "const MAX_PAYLOAD_SIZE = 100 * 1024;\n",
              "\n",
              "function _uploadFiles(inputId, outputId) {\n",
              "  const steps = uploadFilesStep(inputId, outputId);\n",
              "  const outputElement = document.getElementById(outputId);\n",
              "  // Cache steps on the outputElement to make it available for the next call\n",
              "  // to uploadFilesContinue from Python.\n",
              "  outputElement.steps = steps;\n",
              "\n",
              "  return _uploadFilesContinue(outputId);\n",
              "}\n",
              "\n",
              "// This is roughly an async generator (not supported in the browser yet),\n",
              "// where there are multiple asynchronous steps and the Python side is going\n",
              "// to poll for completion of each step.\n",
              "// This uses a Promise to block the python side on completion of each step,\n",
              "// then passes the result of the previous step as the input to the next step.\n",
              "function _uploadFilesContinue(outputId) {\n",
              "  const outputElement = document.getElementById(outputId);\n",
              "  const steps = outputElement.steps;\n",
              "\n",
              "  const next = steps.next(outputElement.lastPromiseValue);\n",
              "  return Promise.resolve(next.value.promise).then((value) => {\n",
              "    // Cache the last promise value to make it available to the next\n",
              "    // step of the generator.\n",
              "    outputElement.lastPromiseValue = value;\n",
              "    return next.value.response;\n",
              "  });\n",
              "}\n",
              "\n",
              "/**\n",
              " * Generator function which is called between each async step of the upload\n",
              " * process.\n",
              " * @param {string} inputId Element ID of the input file picker element.\n",
              " * @param {string} outputId Element ID of the output display.\n",
              " * @return {!Iterable<!Object>} Iterable of next steps.\n",
              " */\n",
              "function* uploadFilesStep(inputId, outputId) {\n",
              "  const inputElement = document.getElementById(inputId);\n",
              "  inputElement.disabled = false;\n",
              "\n",
              "  const outputElement = document.getElementById(outputId);\n",
              "  outputElement.innerHTML = '';\n",
              "\n",
              "  const pickedPromise = new Promise((resolve) => {\n",
              "    inputElement.addEventListener('change', (e) => {\n",
              "      resolve(e.target.files);\n",
              "    });\n",
              "  });\n",
              "\n",
              "  const cancel = document.createElement('button');\n",
              "  inputElement.parentElement.appendChild(cancel);\n",
              "  cancel.textContent = 'Cancel upload';\n",
              "  const cancelPromise = new Promise((resolve) => {\n",
              "    cancel.onclick = () => {\n",
              "      resolve(null);\n",
              "    };\n",
              "  });\n",
              "\n",
              "  // Wait for the user to pick the files.\n",
              "  const files = yield {\n",
              "    promise: Promise.race([pickedPromise, cancelPromise]),\n",
              "    response: {\n",
              "      action: 'starting',\n",
              "    }\n",
              "  };\n",
              "\n",
              "  cancel.remove();\n",
              "\n",
              "  // Disable the input element since further picks are not allowed.\n",
              "  inputElement.disabled = true;\n",
              "\n",
              "  if (!files) {\n",
              "    return {\n",
              "      response: {\n",
              "        action: 'complete',\n",
              "      }\n",
              "    };\n",
              "  }\n",
              "\n",
              "  for (const file of files) {\n",
              "    const li = document.createElement('li');\n",
              "    li.append(span(file.name, {fontWeight: 'bold'}));\n",
              "    li.append(span(\n",
              "        `(${file.type || 'n/a'}) - ${file.size} bytes, ` +\n",
              "        `last modified: ${\n",
              "            file.lastModifiedDate ? file.lastModifiedDate.toLocaleDateString() :\n",
              "                                    'n/a'} - `));\n",
              "    const percent = span('0% done');\n",
              "    li.appendChild(percent);\n",
              "\n",
              "    outputElement.appendChild(li);\n",
              "\n",
              "    const fileDataPromise = new Promise((resolve) => {\n",
              "      const reader = new FileReader();\n",
              "      reader.onload = (e) => {\n",
              "        resolve(e.target.result);\n",
              "      };\n",
              "      reader.readAsArrayBuffer(file);\n",
              "    });\n",
              "    // Wait for the data to be ready.\n",
              "    let fileData = yield {\n",
              "      promise: fileDataPromise,\n",
              "      response: {\n",
              "        action: 'continue',\n",
              "      }\n",
              "    };\n",
              "\n",
              "    // Use a chunked sending to avoid message size limits. See b/62115660.\n",
              "    let position = 0;\n",
              "    do {\n",
              "      const length = Math.min(fileData.byteLength - position, MAX_PAYLOAD_SIZE);\n",
              "      const chunk = new Uint8Array(fileData, position, length);\n",
              "      position += length;\n",
              "\n",
              "      const base64 = btoa(String.fromCharCode.apply(null, chunk));\n",
              "      yield {\n",
              "        response: {\n",
              "          action: 'append',\n",
              "          file: file.name,\n",
              "          data: base64,\n",
              "        },\n",
              "      };\n",
              "\n",
              "      let percentDone = fileData.byteLength === 0 ?\n",
              "          100 :\n",
              "          Math.round((position / fileData.byteLength) * 100);\n",
              "      percent.textContent = `${percentDone}% done`;\n",
              "\n",
              "    } while (position < fileData.byteLength);\n",
              "  }\n",
              "\n",
              "  // All done.\n",
              "  yield {\n",
              "    response: {\n",
              "      action: 'complete',\n",
              "    }\n",
              "  };\n",
              "}\n",
              "\n",
              "scope.google = scope.google || {};\n",
              "scope.google.colab = scope.google.colab || {};\n",
              "scope.google.colab._files = {\n",
              "  _uploadFiles,\n",
              "  _uploadFilesContinue,\n",
              "};\n",
              "})(self);\n",
              "</script> "
            ]
          },
          "metadata": {}
        },
        {
          "output_type": "stream",
          "name": "stdout",
          "text": [
            "Saving sales.csv to sales.csv\n"
          ]
        }
      ]
    },
    {
      "cell_type": "code",
      "source": [],
      "metadata": {
        "id": "8zgJvA8iNCQ-"
      },
      "execution_count": null,
      "outputs": []
    },
    {
      "cell_type": "code",
      "source": [
        "spark=SparkSession.builder.appName(\"ETL_Sample\").getOrCreate()\n",
        "\n",
        "df=spark.read.option(\"header\", True).option(\"inferschema\", True).csv(\"sales.csv\")\n",
        "\n",
        "print(\"Column Names\", df.columns)\n",
        "\n",
        "df.show()"
      ],
      "metadata": {
        "colab": {
          "base_uri": "https://localhost:8080/"
        },
        "id": "1Nsynr64S4A2",
        "outputId": "399d1f15-73be-498d-c4ad-29ab58604324"
      },
      "execution_count": null,
      "outputs": [
        {
          "output_type": "stream",
          "name": "stdout",
          "text": [
            "Column Names ['order_id', 'customer_id', 'product', 'price', 'quantity', 'order_date']\n",
            "+--------+-----------+----------+-----+--------+----------+\n",
            "|order_id|customer_id|   product|price|quantity|order_date|\n",
            "+--------+-----------+----------+-----+--------+----------+\n",
            "|    1001|       C001|    Laptop|70000|       1|01-06-2024|\n",
            "|    1002|       C002|Smartphone|30000|       2|02-06-2024|\n",
            "|    1003|       C001|     Mouse|  500|       3|03-06-2024|\n",
            "|    1004|       C003|  Keyboard| 1500|       1|04-06-2024|\n",
            "|    1005|       C002|   Monitor|12000|       1|05-06-2024|\n",
            "|    1006|       C004|      NULL|45000|       1|06-06-2024|\n",
            "|    1007|       C005|    Tablet|25000|    NULL|07-06-2024|\n",
            "|    1008|       C001|    Laptop|70000|       1|08-06-2024|\n",
            "|    1009|       C006|Smartwatch| 5000|       1|      NULL|\n",
            "|    1010|       C007|     Mouse|  500|       2|10-06-2024|\n",
            "+--------+-----------+----------+-----+--------+----------+\n",
            "\n"
          ]
        }
      ]
    },
    {
      "cell_type": "code",
      "source": [
        "df_clean=df.dropna(subset=['product','price','quantity','order_date']).withColumn(\"Total Price\", col(\"price\") * col(\"quantity\")).withColumn(\"order_date\",to_date(col(\"order_date\"), \"dd-MM-yyyy\"))\n",
        "\n",
        "print(\"Cleansed Data :\")\n",
        "\n",
        "df_clean.show()"
      ],
      "metadata": {
        "colab": {
          "base_uri": "https://localhost:8080/"
        },
        "id": "V2wPMk7ZT3ga",
        "outputId": "03a2fbcd-9b48-4467-a33d-17dcf0f02314"
      },
      "execution_count": null,
      "outputs": [
        {
          "output_type": "stream",
          "name": "stdout",
          "text": [
            "Cleansed Data :\n",
            "+--------+-----------+----------+-----+--------+----------+-----------+\n",
            "|order_id|customer_id|   product|price|quantity|order_date|Total Price|\n",
            "+--------+-----------+----------+-----+--------+----------+-----------+\n",
            "|    1001|       C001|    Laptop|70000|       1|2024-06-01|      70000|\n",
            "|    1002|       C002|Smartphone|30000|       2|2024-06-02|      60000|\n",
            "|    1003|       C001|     Mouse|  500|       3|2024-06-03|       1500|\n",
            "|    1004|       C003|  Keyboard| 1500|       1|2024-06-04|       1500|\n",
            "|    1005|       C002|   Monitor|12000|       1|2024-06-05|      12000|\n",
            "|    1008|       C001|    Laptop|70000|       1|2024-06-08|      70000|\n",
            "|    1010|       C007|     Mouse|  500|       2|2024-06-10|       1000|\n",
            "+--------+-----------+----------+-----+--------+----------+-----------+\n",
            "\n"
          ]
        }
      ]
    },
    {
      "cell_type": "code",
      "source": [
        "df_clean.write.mode(\"overwrite\").option(\"header\", True).csv(\"/content/cleansed_sales\")\n",
        "\n",
        "!zip -r cleansed_sales.zip cleansed_sales\n",
        "files.download(\"cleansed_sales.zip\")"
      ],
      "metadata": {
        "colab": {
          "base_uri": "https://localhost:8080/",
          "height": 104
        },
        "id": "bAXZSV2xY3KG",
        "outputId": "5c4987e6-80b8-48e0-de73-f7480de1973e"
      },
      "execution_count": null,
      "outputs": [
        {
          "output_type": "stream",
          "name": "stdout",
          "text": [
            "  adding: cleansed_sales/ (stored 0%)\n",
            "  adding: cleansed_sales/._SUCCESS.crc (stored 0%)\n",
            "  adding: cleansed_sales/.part-00000-85627b1b-e63b-4496-990f-2da7a31066b6-c000.csv.crc (stored 0%)\n",
            "  adding: cleansed_sales/part-00000-85627b1b-e63b-4496-990f-2da7a31066b6-c000.csv (deflated 49%)\n",
            "  adding: cleansed_sales/_SUCCESS (stored 0%)\n"
          ]
        },
        {
          "output_type": "display_data",
          "data": {
            "text/plain": [
              "<IPython.core.display.Javascript object>"
            ],
            "application/javascript": [
              "\n",
              "    async function download(id, filename, size) {\n",
              "      if (!google.colab.kernel.accessAllowed) {\n",
              "        return;\n",
              "      }\n",
              "      const div = document.createElement('div');\n",
              "      const label = document.createElement('label');\n",
              "      label.textContent = `Downloading \"${filename}\": `;\n",
              "      div.appendChild(label);\n",
              "      const progress = document.createElement('progress');\n",
              "      progress.max = size;\n",
              "      div.appendChild(progress);\n",
              "      document.body.appendChild(div);\n",
              "\n",
              "      const buffers = [];\n",
              "      let downloaded = 0;\n",
              "\n",
              "      const channel = await google.colab.kernel.comms.open(id);\n",
              "      // Send a message to notify the kernel that we're ready.\n",
              "      channel.send({})\n",
              "\n",
              "      for await (const message of channel.messages) {\n",
              "        // Send a message to notify the kernel that we're ready.\n",
              "        channel.send({})\n",
              "        if (message.buffers) {\n",
              "          for (const buffer of message.buffers) {\n",
              "            buffers.push(buffer);\n",
              "            downloaded += buffer.byteLength;\n",
              "            progress.value = downloaded;\n",
              "          }\n",
              "        }\n",
              "      }\n",
              "      const blob = new Blob(buffers, {type: 'application/binary'});\n",
              "      const a = document.createElement('a');\n",
              "      a.href = window.URL.createObjectURL(blob);\n",
              "      a.download = filename;\n",
              "      div.appendChild(a);\n",
              "      a.click();\n",
              "      div.remove();\n",
              "    }\n",
              "  "
            ]
          },
          "metadata": {}
        },
        {
          "output_type": "display_data",
          "data": {
            "text/plain": [
              "<IPython.core.display.Javascript object>"
            ],
            "application/javascript": [
              "download(\"download_891b333a-aee9-4657-a40d-9f53e88522f7\", \"cleansed_sales.zip\", 1291)"
            ]
          },
          "metadata": {}
        }
      ]
    },
    {
      "cell_type": "code",
      "source": [],
      "metadata": {
        "id": "dXwCzyYXTp7y"
      },
      "execution_count": null,
      "outputs": []
    },
    {
      "cell_type": "code",
      "source": [
        "df_clean.groupBy(\"product\").agg({\"Total Price\": \"sum\"}).withColumnRenamed(\"Sum(Total Price)\", \"Total Sales\").orderBy(\"Total Sales\", ascending=False).show()"
      ],
      "metadata": {
        "colab": {
          "base_uri": "https://localhost:8080/"
        },
        "id": "zhAt4jw-f4dF",
        "outputId": "83f3adc5-1275-4c6c-8dca-7123d07e0a40"
      },
      "execution_count": null,
      "outputs": [
        {
          "output_type": "stream",
          "name": "stdout",
          "text": [
            "+----------+-----------+\n",
            "|   product|Total Sales|\n",
            "+----------+-----------+\n",
            "|    Laptop|     140000|\n",
            "|Smartphone|      60000|\n",
            "|   Monitor|      12000|\n",
            "|     Mouse|       2500|\n",
            "|  Keyboard|       1500|\n",
            "+----------+-----------+\n",
            "\n"
          ]
        }
      ]
    },
    {
      "cell_type": "code",
      "source": [
        "from pyspark.sql import SparkSession\n",
        "\n",
        "spark=SparkSession.builder.appName(\"My first Pyspark Program\").getOrCreate()\n",
        "\n",
        "print(\"Say Hello\")\n",
        "\n",
        "data=[(\"saravana\", 27),(\"sudha\", 26)]\n",
        "\n",
        "df=spark.createDataFrame(data, schema=[\"name\",\"age\"])\n",
        "df.printSchema()\n",
        "df.show()"
      ],
      "metadata": {
        "colab": {
          "base_uri": "https://localhost:8080/"
        },
        "id": "Z28EzgEITuE3",
        "outputId": "6e23a723-6636-47af-aea8-3c6be3721452"
      },
      "execution_count": null,
      "outputs": [
        {
          "output_type": "stream",
          "name": "stdout",
          "text": [
            "Say Hello\n",
            "root\n",
            " |-- name: string (nullable = true)\n",
            " |-- age: long (nullable = true)\n",
            "\n",
            "+--------+---+\n",
            "|    name|age|\n",
            "+--------+---+\n",
            "|saravana| 27|\n",
            "|   sudha| 26|\n",
            "+--------+---+\n",
            "\n"
          ]
        }
      ]
    },
    {
      "cell_type": "code",
      "source": [
        "df.select(\"name\").show()\n",
        "\n",
        "df.filter(df.age == 26)"
      ],
      "metadata": {
        "colab": {
          "base_uri": "https://localhost:8080/"
        },
        "id": "gme2i5PsNEjc",
        "outputId": "4f193ccb-ccf8-465e-ad15-28de86ff5962"
      },
      "execution_count": null,
      "outputs": [
        {
          "output_type": "stream",
          "name": "stdout",
          "text": [
            "+--------+\n",
            "|    name|\n",
            "+--------+\n",
            "|saravana|\n",
            "|   sudha|\n",
            "+--------+\n",
            "\n",
            "+--------+---+\n",
            "|    name|age|\n",
            "+--------+---+\n",
            "|saravana| 27|\n",
            "|   sudha| 26|\n",
            "+--------+---+\n",
            "\n"
          ]
        }
      ]
    },
    {
      "cell_type": "code",
      "source": [
        "df=df.withColumn(\"Age_plus\", col(\"age\")+5)\n",
        "\n",
        "df.show()"
      ],
      "metadata": {
        "colab": {
          "base_uri": "https://localhost:8080/"
        },
        "id": "mb0y72UjNrKz",
        "outputId": "24b58040-57ff-4cf1-9634-1e00ddfff7a6"
      },
      "execution_count": null,
      "outputs": [
        {
          "output_type": "stream",
          "name": "stdout",
          "text": [
            "+--------+---+--------+\n",
            "|    name|age|Age_plus|\n",
            "+--------+---+--------+\n",
            "|saravana| 27|      32|\n",
            "|   sudha| 26|      31|\n",
            "+--------+---+--------+\n",
            "\n"
          ]
        }
      ]
    },
    {
      "cell_type": "code",
      "source": [
        "df.filter(df.Age_plus>31).show()"
      ],
      "metadata": {
        "colab": {
          "base_uri": "https://localhost:8080/"
        },
        "id": "IMn7R35uPV1g",
        "outputId": "023e6cd4-1098-45cc-87f2-51ff31665149"
      },
      "execution_count": null,
      "outputs": [
        {
          "output_type": "stream",
          "name": "stdout",
          "text": [
            "+--------+---+--------+\n",
            "|    name|age|Age_plus|\n",
            "+--------+---+--------+\n",
            "|saravana| 27|      32|\n",
            "|   sudha| 26|      31|\n",
            "+--------+---+--------+\n",
            "\n",
            "+--------+---+--------+\n",
            "|    name|age|Age_plus|\n",
            "+--------+---+--------+\n",
            "|saravana| 27|      32|\n",
            "+--------+---+--------+\n",
            "\n"
          ]
        }
      ]
    },
    {
      "cell_type": "code",
      "source": [
        "df.withColumnRenamed(\"name\",\"Name\").withColumnRenamed(\"age\",\"Age\").show()"
      ],
      "metadata": {
        "colab": {
          "base_uri": "https://localhost:8080/"
        },
        "id": "3Va47bcNUp5_",
        "outputId": "66066986-dc12-4eac-8456-25ed0655cf7e"
      },
      "execution_count": null,
      "outputs": [
        {
          "output_type": "stream",
          "name": "stdout",
          "text": [
            "+--------+---+--------+\n",
            "|    Name|Age|Age_plus|\n",
            "+--------+---+--------+\n",
            "|saravana| 27|      32|\n",
            "|   sudha| 26|      31|\n",
            "+--------+---+--------+\n",
            "\n"
          ]
        }
      ]
    },
    {
      "cell_type": "code",
      "source": [
        "from pyspark.sql.types import StructField,StructType,StringType,IntegerType\n",
        "\n",
        "schema = StructType([\n",
        "    StructField(\"Name\", StringType(), True),\n",
        "    StructField(\"Age\", IntegerType(), True)\n",
        "])\n",
        "new_data = [(\"Raga\",None,5),(\"sarvan\",None,5)]\n",
        "new_df=spark.createDataFrame(new_data,[\"Name\",\"Age\",\"Age_plus\"])\n",
        "new_df.show()"
      ],
      "metadata": {
        "colab": {
          "base_uri": "https://localhost:8080/",
          "height": 339
        },
        "id": "RE3FQGpUVr_j",
        "outputId": "a6103a8f-cba8-4c66-9210-18567d2c8482"
      },
      "execution_count": null,
      "outputs": [
        {
          "output_type": "error",
          "ename": "PySparkValueError",
          "evalue": "[CANNOT_DETERMINE_TYPE] Some of types cannot be determined after inferring.",
          "traceback": [
            "\u001b[0;31m---------------------------------------------------------------------------\u001b[0m",
            "\u001b[0;31mPySparkValueError\u001b[0m                         Traceback (most recent call last)",
            "\u001b[0;32m/tmp/ipython-input-35-839104669.py\u001b[0m in \u001b[0;36m<cell line: 0>\u001b[0;34m()\u001b[0m\n\u001b[1;32m      6\u001b[0m ])\n\u001b[1;32m      7\u001b[0m \u001b[0mnew_data\u001b[0m \u001b[0;34m=\u001b[0m \u001b[0;34m[\u001b[0m\u001b[0;34m(\u001b[0m\u001b[0;34m\"Raga\"\u001b[0m\u001b[0;34m,\u001b[0m\u001b[0;32mNone\u001b[0m\u001b[0;34m,\u001b[0m\u001b[0;36m5\u001b[0m\u001b[0;34m)\u001b[0m\u001b[0;34m,\u001b[0m\u001b[0;34m(\u001b[0m\u001b[0;34m\"sarvan\"\u001b[0m\u001b[0;34m,\u001b[0m\u001b[0;32mNone\u001b[0m\u001b[0;34m,\u001b[0m\u001b[0;36m5\u001b[0m\u001b[0;34m)\u001b[0m\u001b[0;34m]\u001b[0m\u001b[0;34m\u001b[0m\u001b[0;34m\u001b[0m\u001b[0m\n\u001b[0;32m----> 8\u001b[0;31m \u001b[0mnew_df\u001b[0m\u001b[0;34m=\u001b[0m\u001b[0mspark\u001b[0m\u001b[0;34m.\u001b[0m\u001b[0mcreateDataFrame\u001b[0m\u001b[0;34m(\u001b[0m\u001b[0mnew_data\u001b[0m\u001b[0;34m,\u001b[0m\u001b[0;34m[\u001b[0m\u001b[0;34m\"Name\"\u001b[0m\u001b[0;34m,\u001b[0m\u001b[0;34m\"Age\"\u001b[0m\u001b[0;34m,\u001b[0m\u001b[0;34m\"Age_plus\"\u001b[0m\u001b[0;34m]\u001b[0m\u001b[0;34m)\u001b[0m\u001b[0;34m\u001b[0m\u001b[0;34m\u001b[0m\u001b[0m\n\u001b[0m\u001b[1;32m      9\u001b[0m \u001b[0mnew_df\u001b[0m\u001b[0;34m.\u001b[0m\u001b[0mshow\u001b[0m\u001b[0;34m(\u001b[0m\u001b[0;34m)\u001b[0m\u001b[0;34m\u001b[0m\u001b[0;34m\u001b[0m\u001b[0m\n",
            "\u001b[0;32m/usr/local/lib/python3.11/dist-packages/pyspark/sql/session.py\u001b[0m in \u001b[0;36mcreateDataFrame\u001b[0;34m(self, data, schema, samplingRatio, verifySchema)\u001b[0m\n\u001b[1;32m   1441\u001b[0m                 \u001b[0mdata\u001b[0m\u001b[0;34m,\u001b[0m \u001b[0mschema\u001b[0m\u001b[0;34m,\u001b[0m \u001b[0msamplingRatio\u001b[0m\u001b[0;34m,\u001b[0m \u001b[0mverifySchema\u001b[0m\u001b[0;34m\u001b[0m\u001b[0;34m\u001b[0m\u001b[0m\n\u001b[1;32m   1442\u001b[0m             )\n\u001b[0;32m-> 1443\u001b[0;31m         return self._create_dataframe(\n\u001b[0m\u001b[1;32m   1444\u001b[0m             \u001b[0mdata\u001b[0m\u001b[0;34m,\u001b[0m \u001b[0mschema\u001b[0m\u001b[0;34m,\u001b[0m \u001b[0msamplingRatio\u001b[0m\u001b[0;34m,\u001b[0m \u001b[0mverifySchema\u001b[0m  \u001b[0;31m# type: ignore[arg-type]\u001b[0m\u001b[0;34m\u001b[0m\u001b[0;34m\u001b[0m\u001b[0m\n\u001b[1;32m   1445\u001b[0m         )\n",
            "\u001b[0;32m/usr/local/lib/python3.11/dist-packages/pyspark/sql/session.py\u001b[0m in \u001b[0;36m_create_dataframe\u001b[0;34m(self, data, schema, samplingRatio, verifySchema)\u001b[0m\n\u001b[1;32m   1483\u001b[0m             \u001b[0mrdd\u001b[0m\u001b[0;34m,\u001b[0m \u001b[0mstruct\u001b[0m \u001b[0;34m=\u001b[0m \u001b[0mself\u001b[0m\u001b[0;34m.\u001b[0m\u001b[0m_createFromRDD\u001b[0m\u001b[0;34m(\u001b[0m\u001b[0mdata\u001b[0m\u001b[0;34m.\u001b[0m\u001b[0mmap\u001b[0m\u001b[0;34m(\u001b[0m\u001b[0mprepare\u001b[0m\u001b[0;34m)\u001b[0m\u001b[0;34m,\u001b[0m \u001b[0mschema\u001b[0m\u001b[0;34m,\u001b[0m \u001b[0msamplingRatio\u001b[0m\u001b[0;34m)\u001b[0m\u001b[0;34m\u001b[0m\u001b[0;34m\u001b[0m\u001b[0m\n\u001b[1;32m   1484\u001b[0m         \u001b[0;32melse\u001b[0m\u001b[0;34m:\u001b[0m\u001b[0;34m\u001b[0m\u001b[0;34m\u001b[0m\u001b[0m\n\u001b[0;32m-> 1485\u001b[0;31m             \u001b[0mrdd\u001b[0m\u001b[0;34m,\u001b[0m \u001b[0mstruct\u001b[0m \u001b[0;34m=\u001b[0m \u001b[0mself\u001b[0m\u001b[0;34m.\u001b[0m\u001b[0m_createFromLocal\u001b[0m\u001b[0;34m(\u001b[0m\u001b[0mmap\u001b[0m\u001b[0;34m(\u001b[0m\u001b[0mprepare\u001b[0m\u001b[0;34m,\u001b[0m \u001b[0mdata\u001b[0m\u001b[0;34m)\u001b[0m\u001b[0;34m,\u001b[0m \u001b[0mschema\u001b[0m\u001b[0;34m)\u001b[0m\u001b[0;34m\u001b[0m\u001b[0;34m\u001b[0m\u001b[0m\n\u001b[0m\u001b[1;32m   1486\u001b[0m         \u001b[0;32massert\u001b[0m \u001b[0mself\u001b[0m\u001b[0;34m.\u001b[0m\u001b[0m_jvm\u001b[0m \u001b[0;32mis\u001b[0m \u001b[0;32mnot\u001b[0m \u001b[0;32mNone\u001b[0m\u001b[0;34m\u001b[0m\u001b[0;34m\u001b[0m\u001b[0m\n\u001b[1;32m   1487\u001b[0m         \u001b[0mjrdd\u001b[0m \u001b[0;34m=\u001b[0m \u001b[0mself\u001b[0m\u001b[0;34m.\u001b[0m\u001b[0m_jvm\u001b[0m\u001b[0;34m.\u001b[0m\u001b[0mSerDeUtil\u001b[0m\u001b[0;34m.\u001b[0m\u001b[0mtoJavaArray\u001b[0m\u001b[0;34m(\u001b[0m\u001b[0mrdd\u001b[0m\u001b[0;34m.\u001b[0m\u001b[0m_to_java_object_rdd\u001b[0m\u001b[0;34m(\u001b[0m\u001b[0;34m)\u001b[0m\u001b[0;34m)\u001b[0m\u001b[0;34m\u001b[0m\u001b[0;34m\u001b[0m\u001b[0m\n",
            "\u001b[0;32m/usr/local/lib/python3.11/dist-packages/pyspark/sql/session.py\u001b[0m in \u001b[0;36m_createFromLocal\u001b[0;34m(self, data, schema)\u001b[0m\n\u001b[1;32m   1091\u001b[0m \u001b[0;34m\u001b[0m\u001b[0m\n\u001b[1;32m   1092\u001b[0m         \u001b[0;32mif\u001b[0m \u001b[0mschema\u001b[0m \u001b[0;32mis\u001b[0m \u001b[0;32mNone\u001b[0m \u001b[0;32mor\u001b[0m \u001b[0misinstance\u001b[0m\u001b[0;34m(\u001b[0m\u001b[0mschema\u001b[0m\u001b[0;34m,\u001b[0m \u001b[0;34m(\u001b[0m\u001b[0mlist\u001b[0m\u001b[0;34m,\u001b[0m \u001b[0mtuple\u001b[0m\u001b[0;34m)\u001b[0m\u001b[0;34m)\u001b[0m\u001b[0;34m:\u001b[0m\u001b[0;34m\u001b[0m\u001b[0;34m\u001b[0m\u001b[0m\n\u001b[0;32m-> 1093\u001b[0;31m             \u001b[0mstruct\u001b[0m \u001b[0;34m=\u001b[0m \u001b[0mself\u001b[0m\u001b[0;34m.\u001b[0m\u001b[0m_inferSchemaFromList\u001b[0m\u001b[0;34m(\u001b[0m\u001b[0mdata\u001b[0m\u001b[0;34m,\u001b[0m \u001b[0mnames\u001b[0m\u001b[0;34m=\u001b[0m\u001b[0mschema\u001b[0m\u001b[0;34m)\u001b[0m\u001b[0;34m\u001b[0m\u001b[0;34m\u001b[0m\u001b[0m\n\u001b[0m\u001b[1;32m   1094\u001b[0m             \u001b[0mconverter\u001b[0m \u001b[0;34m=\u001b[0m \u001b[0m_create_converter\u001b[0m\u001b[0;34m(\u001b[0m\u001b[0mstruct\u001b[0m\u001b[0;34m)\u001b[0m\u001b[0;34m\u001b[0m\u001b[0;34m\u001b[0m\u001b[0m\n\u001b[1;32m   1095\u001b[0m             \u001b[0mtupled_data\u001b[0m\u001b[0;34m:\u001b[0m \u001b[0mIterable\u001b[0m\u001b[0;34m[\u001b[0m\u001b[0mTuple\u001b[0m\u001b[0;34m]\u001b[0m \u001b[0;34m=\u001b[0m \u001b[0mmap\u001b[0m\u001b[0;34m(\u001b[0m\u001b[0mconverter\u001b[0m\u001b[0;34m,\u001b[0m \u001b[0mdata\u001b[0m\u001b[0;34m)\u001b[0m\u001b[0;34m\u001b[0m\u001b[0;34m\u001b[0m\u001b[0m\n",
            "\u001b[0;32m/usr/local/lib/python3.11/dist-packages/pyspark/sql/session.py\u001b[0m in \u001b[0;36m_inferSchemaFromList\u001b[0;34m(self, data, names)\u001b[0m\n\u001b[1;32m    967\u001b[0m         )\n\u001b[1;32m    968\u001b[0m         \u001b[0;32mif\u001b[0m \u001b[0m_has_nulltype\u001b[0m\u001b[0;34m(\u001b[0m\u001b[0mschema\u001b[0m\u001b[0;34m)\u001b[0m\u001b[0;34m:\u001b[0m\u001b[0;34m\u001b[0m\u001b[0;34m\u001b[0m\u001b[0m\n\u001b[0;32m--> 969\u001b[0;31m             raise PySparkValueError(\n\u001b[0m\u001b[1;32m    970\u001b[0m                 \u001b[0merror_class\u001b[0m\u001b[0;34m=\u001b[0m\u001b[0;34m\"CANNOT_DETERMINE_TYPE\"\u001b[0m\u001b[0;34m,\u001b[0m\u001b[0;34m\u001b[0m\u001b[0;34m\u001b[0m\u001b[0m\n\u001b[1;32m    971\u001b[0m                 \u001b[0mmessage_parameters\u001b[0m\u001b[0;34m=\u001b[0m\u001b[0;34m{\u001b[0m\u001b[0;34m}\u001b[0m\u001b[0;34m,\u001b[0m\u001b[0;34m\u001b[0m\u001b[0;34m\u001b[0m\u001b[0m\n",
            "\u001b[0;31mPySparkValueError\u001b[0m: [CANNOT_DETERMINE_TYPE] Some of types cannot be determined after inferring."
          ]
        }
      ]
    },
    {
      "cell_type": "code",
      "source": [],
      "metadata": {
        "id": "j819hns-9-l2"
      },
      "execution_count": null,
      "outputs": []
    },
    {
      "cell_type": "code",
      "source": [
        "df_combined = df.union(new_df)\n",
        "df_combined.show()"
      ],
      "metadata": {
        "colab": {
          "base_uri": "https://localhost:8080/"
        },
        "id": "gVQuUD4_WfKq",
        "outputId": "0e5ce4f7-5473-4567-fd8f-44a3bdcb7df3"
      },
      "execution_count": null,
      "outputs": [
        {
          "output_type": "stream",
          "name": "stdout",
          "text": [
            "+--------+---+--------+\n",
            "|    name|age|Age_plus|\n",
            "+--------+---+--------+\n",
            "|saravana| 27|      32|\n",
            "|   sudha| 26|      31|\n",
            "|    Raga|  0|       5|\n",
            "|  sarvan|  0|       5|\n",
            "+--------+---+--------+\n",
            "\n"
          ]
        }
      ]
    },
    {
      "cell_type": "code",
      "source": [
        "df_combined.dropna().show()"
      ],
      "metadata": {
        "colab": {
          "base_uri": "https://localhost:8080/"
        },
        "id": "nwJfqkOAW3IQ",
        "outputId": "46701e96-abf7-4490-860b-a6ac2450e4ce"
      },
      "execution_count": null,
      "outputs": [
        {
          "output_type": "stream",
          "name": "stdout",
          "text": [
            "+--------+---+--------+\n",
            "|    name|age|Age_plus|\n",
            "+--------+---+--------+\n",
            "|saravana| 27|      32|\n",
            "|   sudha| 26|      31|\n",
            "|    Raga|  0|       5|\n",
            "|  sarvan|  0|       5|\n",
            "+--------+---+--------+\n",
            "\n"
          ]
        }
      ]
    },
    {
      "cell_type": "code",
      "source": [
        "df_combined = df.union(new_df)\n",
        "df_combined.dropna().show()"
      ],
      "metadata": {
        "colab": {
          "base_uri": "https://localhost:8080/",
          "height": 141
        },
        "id": "ed2wOYOD-APB",
        "outputId": "a5749982-0ff1-4bd6-f2d4-59c6c9fd6d1f"
      },
      "execution_count": null,
      "outputs": [
        {
          "output_type": "error",
          "ename": "NameError",
          "evalue": "name 'df_combined' is not defined",
          "traceback": [
            "\u001b[0;31m---------------------------------------------------------------------------\u001b[0m",
            "\u001b[0;31mNameError\u001b[0m                                 Traceback (most recent call last)",
            "\u001b[0;32m/tmp/ipython-input-1-403660841.py\u001b[0m in \u001b[0;36m<cell line: 0>\u001b[0;34m()\u001b[0m\n\u001b[0;32m----> 1\u001b[0;31m \u001b[0mdf_combined\u001b[0m\u001b[0;34m.\u001b[0m\u001b[0mdropna\u001b[0m\u001b[0;34m(\u001b[0m\u001b[0;34m)\u001b[0m\u001b[0;34m.\u001b[0m\u001b[0mshow\u001b[0m\u001b[0;34m(\u001b[0m\u001b[0;34m)\u001b[0m\u001b[0;34m\u001b[0m\u001b[0;34m\u001b[0m\u001b[0m\n\u001b[0m",
            "\u001b[0;31mNameError\u001b[0m: name 'df_combined' is not defined"
          ]
        }
      ]
    },
    {
      "cell_type": "code",
      "source": [
        "from pyspark.sql import SparkSession\n",
        "from pyspark.sql.functions import col\n",
        "\n",
        "spark=SparkSession.builder.appName(\"Sample\").getOrCreate()\n",
        "bio_data=[(\"saravana\",27),(\"sudha\",26)]\n",
        "df=spark.createDataFrame(bio_data,schema=[\"name\",\"age\"])\n",
        "\n",
        "df.show()\n",
        "\n",
        "df.filter(df[\"age\"]>26).show()\n",
        "df.filter(col(\"age\")>=27).show()"
      ],
      "metadata": {
        "colab": {
          "base_uri": "https://localhost:8080/"
        },
        "id": "IcXm0gQG-eX8",
        "outputId": "b70828e9-c41b-47fe-bbf0-263b970ebfe6"
      },
      "execution_count": null,
      "outputs": [
        {
          "output_type": "stream",
          "name": "stdout",
          "text": [
            "+--------+---+\n",
            "|    name|age|\n",
            "+--------+---+\n",
            "|saravana| 27|\n",
            "|   sudha| 26|\n",
            "+--------+---+\n",
            "\n",
            "+--------+---+\n",
            "|    name|age|\n",
            "+--------+---+\n",
            "|saravana| 27|\n",
            "+--------+---+\n",
            "\n",
            "+--------+---+\n",
            "|    name|age|\n",
            "+--------+---+\n",
            "|saravana| 27|\n",
            "+--------+---+\n",
            "\n"
          ]
        }
      ]
    },
    {
      "cell_type": "code",
      "source": [
        "from pyspark.sql import SparkSession\n",
        "from pyspark.sql.functions import col\n",
        "\n",
        "from google.colab import files\n",
        "uploaded=files.upload()\n",
        "\n",
        "spark=SparkSession.builder.appName(\"Aggregations\").getOrCreate()\n",
        "df_oper=spark.read.option(\"header\",True).option(\"inferschema\", True).csv(\"sales.csv\")\n",
        "\n",
        "df_oper.dropna().show()"
      ],
      "metadata": {
        "colab": {
          "base_uri": "https://localhost:8080/",
          "height": 281
        },
        "id": "xEmr9OIkAM6q",
        "outputId": "a77a9d70-ecf2-4fc0-a9df-88d5ae4e6043"
      },
      "execution_count": null,
      "outputs": [
        {
          "output_type": "display_data",
          "data": {
            "text/plain": [
              "<IPython.core.display.HTML object>"
            ],
            "text/html": [
              "\n",
              "     <input type=\"file\" id=\"files-24840a76-36eb-473b-bfe1-bf0a37cd4fbc\" name=\"files[]\" multiple disabled\n",
              "        style=\"border:none\" />\n",
              "     <output id=\"result-24840a76-36eb-473b-bfe1-bf0a37cd4fbc\">\n",
              "      Upload widget is only available when the cell has been executed in the\n",
              "      current browser session. Please rerun this cell to enable.\n",
              "      </output>\n",
              "      <script>// Copyright 2017 Google LLC\n",
              "//\n",
              "// Licensed under the Apache License, Version 2.0 (the \"License\");\n",
              "// you may not use this file except in compliance with the License.\n",
              "// You may obtain a copy of the License at\n",
              "//\n",
              "//      http://www.apache.org/licenses/LICENSE-2.0\n",
              "//\n",
              "// Unless required by applicable law or agreed to in writing, software\n",
              "// distributed under the License is distributed on an \"AS IS\" BASIS,\n",
              "// WITHOUT WARRANTIES OR CONDITIONS OF ANY KIND, either express or implied.\n",
              "// See the License for the specific language governing permissions and\n",
              "// limitations under the License.\n",
              "\n",
              "/**\n",
              " * @fileoverview Helpers for google.colab Python module.\n",
              " */\n",
              "(function(scope) {\n",
              "function span(text, styleAttributes = {}) {\n",
              "  const element = document.createElement('span');\n",
              "  element.textContent = text;\n",
              "  for (const key of Object.keys(styleAttributes)) {\n",
              "    element.style[key] = styleAttributes[key];\n",
              "  }\n",
              "  return element;\n",
              "}\n",
              "\n",
              "// Max number of bytes which will be uploaded at a time.\n",
              "const MAX_PAYLOAD_SIZE = 100 * 1024;\n",
              "\n",
              "function _uploadFiles(inputId, outputId) {\n",
              "  const steps = uploadFilesStep(inputId, outputId);\n",
              "  const outputElement = document.getElementById(outputId);\n",
              "  // Cache steps on the outputElement to make it available for the next call\n",
              "  // to uploadFilesContinue from Python.\n",
              "  outputElement.steps = steps;\n",
              "\n",
              "  return _uploadFilesContinue(outputId);\n",
              "}\n",
              "\n",
              "// This is roughly an async generator (not supported in the browser yet),\n",
              "// where there are multiple asynchronous steps and the Python side is going\n",
              "// to poll for completion of each step.\n",
              "// This uses a Promise to block the python side on completion of each step,\n",
              "// then passes the result of the previous step as the input to the next step.\n",
              "function _uploadFilesContinue(outputId) {\n",
              "  const outputElement = document.getElementById(outputId);\n",
              "  const steps = outputElement.steps;\n",
              "\n",
              "  const next = steps.next(outputElement.lastPromiseValue);\n",
              "  return Promise.resolve(next.value.promise).then((value) => {\n",
              "    // Cache the last promise value to make it available to the next\n",
              "    // step of the generator.\n",
              "    outputElement.lastPromiseValue = value;\n",
              "    return next.value.response;\n",
              "  });\n",
              "}\n",
              "\n",
              "/**\n",
              " * Generator function which is called between each async step of the upload\n",
              " * process.\n",
              " * @param {string} inputId Element ID of the input file picker element.\n",
              " * @param {string} outputId Element ID of the output display.\n",
              " * @return {!Iterable<!Object>} Iterable of next steps.\n",
              " */\n",
              "function* uploadFilesStep(inputId, outputId) {\n",
              "  const inputElement = document.getElementById(inputId);\n",
              "  inputElement.disabled = false;\n",
              "\n",
              "  const outputElement = document.getElementById(outputId);\n",
              "  outputElement.innerHTML = '';\n",
              "\n",
              "  const pickedPromise = new Promise((resolve) => {\n",
              "    inputElement.addEventListener('change', (e) => {\n",
              "      resolve(e.target.files);\n",
              "    });\n",
              "  });\n",
              "\n",
              "  const cancel = document.createElement('button');\n",
              "  inputElement.parentElement.appendChild(cancel);\n",
              "  cancel.textContent = 'Cancel upload';\n",
              "  const cancelPromise = new Promise((resolve) => {\n",
              "    cancel.onclick = () => {\n",
              "      resolve(null);\n",
              "    };\n",
              "  });\n",
              "\n",
              "  // Wait for the user to pick the files.\n",
              "  const files = yield {\n",
              "    promise: Promise.race([pickedPromise, cancelPromise]),\n",
              "    response: {\n",
              "      action: 'starting',\n",
              "    }\n",
              "  };\n",
              "\n",
              "  cancel.remove();\n",
              "\n",
              "  // Disable the input element since further picks are not allowed.\n",
              "  inputElement.disabled = true;\n",
              "\n",
              "  if (!files) {\n",
              "    return {\n",
              "      response: {\n",
              "        action: 'complete',\n",
              "      }\n",
              "    };\n",
              "  }\n",
              "\n",
              "  for (const file of files) {\n",
              "    const li = document.createElement('li');\n",
              "    li.append(span(file.name, {fontWeight: 'bold'}));\n",
              "    li.append(span(\n",
              "        `(${file.type || 'n/a'}) - ${file.size} bytes, ` +\n",
              "        `last modified: ${\n",
              "            file.lastModifiedDate ? file.lastModifiedDate.toLocaleDateString() :\n",
              "                                    'n/a'} - `));\n",
              "    const percent = span('0% done');\n",
              "    li.appendChild(percent);\n",
              "\n",
              "    outputElement.appendChild(li);\n",
              "\n",
              "    const fileDataPromise = new Promise((resolve) => {\n",
              "      const reader = new FileReader();\n",
              "      reader.onload = (e) => {\n",
              "        resolve(e.target.result);\n",
              "      };\n",
              "      reader.readAsArrayBuffer(file);\n",
              "    });\n",
              "    // Wait for the data to be ready.\n",
              "    let fileData = yield {\n",
              "      promise: fileDataPromise,\n",
              "      response: {\n",
              "        action: 'continue',\n",
              "      }\n",
              "    };\n",
              "\n",
              "    // Use a chunked sending to avoid message size limits. See b/62115660.\n",
              "    let position = 0;\n",
              "    do {\n",
              "      const length = Math.min(fileData.byteLength - position, MAX_PAYLOAD_SIZE);\n",
              "      const chunk = new Uint8Array(fileData, position, length);\n",
              "      position += length;\n",
              "\n",
              "      const base64 = btoa(String.fromCharCode.apply(null, chunk));\n",
              "      yield {\n",
              "        response: {\n",
              "          action: 'append',\n",
              "          file: file.name,\n",
              "          data: base64,\n",
              "        },\n",
              "      };\n",
              "\n",
              "      let percentDone = fileData.byteLength === 0 ?\n",
              "          100 :\n",
              "          Math.round((position / fileData.byteLength) * 100);\n",
              "      percent.textContent = `${percentDone}% done`;\n",
              "\n",
              "    } while (position < fileData.byteLength);\n",
              "  }\n",
              "\n",
              "  // All done.\n",
              "  yield {\n",
              "    response: {\n",
              "      action: 'complete',\n",
              "    }\n",
              "  };\n",
              "}\n",
              "\n",
              "scope.google = scope.google || {};\n",
              "scope.google.colab = scope.google.colab || {};\n",
              "scope.google.colab._files = {\n",
              "  _uploadFiles,\n",
              "  _uploadFilesContinue,\n",
              "};\n",
              "})(self);\n",
              "</script> "
            ]
          },
          "metadata": {}
        },
        {
          "output_type": "stream",
          "name": "stdout",
          "text": [
            "Saving sales.csv to sales (1).csv\n",
            "+--------+-----------+----------+-----+--------+----------+\n",
            "|order_id|customer_id|   product|price|quantity|order_date|\n",
            "+--------+-----------+----------+-----+--------+----------+\n",
            "|    1001|       C001|    Laptop|70000|       1|01-06-2024|\n",
            "|    1002|       C002|Smartphone|30000|       2|02-06-2024|\n",
            "|    1003|       C001|     Mouse|  500|       3|03-06-2024|\n",
            "|    1004|       C003|  Keyboard| 1500|       1|04-06-2024|\n",
            "|    1005|       C002|   Monitor|12000|       1|05-06-2024|\n",
            "|    1008|       C001|    Laptop|70000|       1|08-06-2024|\n",
            "|    1010|       C007|     Mouse|  500|       2|10-06-2024|\n",
            "+--------+-----------+----------+-----+--------+----------+\n",
            "\n"
          ]
        }
      ]
    },
    {
      "cell_type": "code",
      "source": [
        "df_oper.orderBy(col(\"price\").desc()).show()\n",
        "df_oper.orderBy(\"price\").show()\n",
        "\n",
        "print(df_oper.count())"
      ],
      "metadata": {
        "colab": {
          "base_uri": "https://localhost:8080/"
        },
        "id": "pws1zL4zA7FD",
        "outputId": "3e87f7b4-6082-4617-883d-b5066ccf3db9"
      },
      "execution_count": null,
      "outputs": [
        {
          "output_type": "stream",
          "name": "stdout",
          "text": [
            "+--------+-----------+----------+-----+--------+----------+\n",
            "|order_id|customer_id|   product|price|quantity|order_date|\n",
            "+--------+-----------+----------+-----+--------+----------+\n",
            "|    1001|       C001|    Laptop|70000|       1|01-06-2024|\n",
            "|    1008|       C001|    Laptop|70000|       1|08-06-2024|\n",
            "|    1006|       C004|      NULL|45000|       1|06-06-2024|\n",
            "|    1002|       C002|Smartphone|30000|       2|02-06-2024|\n",
            "|    1007|       C005|    Tablet|25000|    NULL|07-06-2024|\n",
            "|    1005|       C002|   Monitor|12000|       1|05-06-2024|\n",
            "|    1009|       C006|Smartwatch| 5000|       1|      NULL|\n",
            "|    1004|       C003|  Keyboard| 1500|       1|04-06-2024|\n",
            "|    1003|       C001|     Mouse|  500|       3|03-06-2024|\n",
            "|    1010|       C007|     Mouse|  500|       2|10-06-2024|\n",
            "+--------+-----------+----------+-----+--------+----------+\n",
            "\n",
            "+--------+-----------+----------+-----+--------+----------+\n",
            "|order_id|customer_id|   product|price|quantity|order_date|\n",
            "+--------+-----------+----------+-----+--------+----------+\n",
            "|    1003|       C001|     Mouse|  500|       3|03-06-2024|\n",
            "|    1010|       C007|     Mouse|  500|       2|10-06-2024|\n",
            "|    1004|       C003|  Keyboard| 1500|       1|04-06-2024|\n",
            "|    1009|       C006|Smartwatch| 5000|       1|      NULL|\n",
            "|    1005|       C002|   Monitor|12000|       1|05-06-2024|\n",
            "|    1007|       C005|    Tablet|25000|    NULL|07-06-2024|\n",
            "|    1002|       C002|Smartphone|30000|       2|02-06-2024|\n",
            "|    1006|       C004|      NULL|45000|       1|06-06-2024|\n",
            "|    1001|       C001|    Laptop|70000|       1|01-06-2024|\n",
            "|    1008|       C001|    Laptop|70000|       1|08-06-2024|\n",
            "+--------+-----------+----------+-----+--------+----------+\n",
            "\n",
            "10\n"
          ]
        }
      ]
    },
    {
      "cell_type": "code",
      "source": [
        "from pyspark.sql.functions import avg,when, col\n",
        "df_oper.groupBy(\"order_id\").agg(avg(\"price\").alias(\"Average Price\")).show()"
      ],
      "metadata": {
        "colab": {
          "base_uri": "https://localhost:8080/"
        },
        "id": "bjDwXqgvENJe",
        "outputId": "67de074a-9908-40e5-a008-4f73adfba1ed"
      },
      "execution_count": null,
      "outputs": [
        {
          "output_type": "stream",
          "name": "stdout",
          "text": [
            "+--------+-------------+\n",
            "|order_id|Average Price|\n",
            "+--------+-------------+\n",
            "|    1005|      12000.0|\n",
            "|    1008|      70000.0|\n",
            "|    1010|        500.0|\n",
            "|    1002|      30000.0|\n",
            "|    1001|      70000.0|\n",
            "|    1006|      45000.0|\n",
            "|    1007|      25000.0|\n",
            "|    1003|        500.0|\n",
            "|    1004|       1500.0|\n",
            "|    1009|       5000.0|\n",
            "+--------+-------------+\n",
            "\n"
          ]
        }
      ]
    },
    {
      "cell_type": "code",
      "source": [],
      "metadata": {
        "id": "by8kPUJvZrPN"
      },
      "execution_count": null,
      "outputs": []
    },
    {
      "cell_type": "code",
      "source": [
        "from pyspark.sql import SparkSession\n",
        "spark=SparkSession.builder.appName(\"sample\").getOrCreate()\n",
        "nums = spark.sparkContext.parallelize([1,2,3,4])\n",
        "squared = nums.map(lambda a: a*a)\n",
        "print(squared.collect())"
      ],
      "metadata": {
        "colab": {
          "base_uri": "https://localhost:8080/"
        },
        "id": "ztkq8kVlZtJ_",
        "outputId": "cac37f04-015f-4854-adc0-aafee797413b"
      },
      "execution_count": 5,
      "outputs": [
        {
          "output_type": "stream",
          "name": "stdout",
          "text": [
            "[1, 4, 9, 16]\n"
          ]
        }
      ]
    },
    {
      "cell_type": "code",
      "source": [
        "df_oper=df_oper.withColumn(\"customer_NAME\", when(col(\"customer_id\") == \"C001\", \"Saravana\")\n",
        "  .when(col(\"customer_id\") == \"C002\", \"Sudha\")\n",
        "  .when(col(\"customer_id\") == \"C003\", \"Sarvan\")\n",
        "  .when(col(\"customer_id\") == \"C004\", \"Ram\")\n",
        "  .when(col(\"customer_id\") == \"C005\", \"Lav\")\n",
        "  .when(col(\"customer_id\") == \"C006\", \"Chev\")\n",
        "  .when(col(\"customer_id\") == \"C007\", \"HeyRam\")).show()"
      ],
      "metadata": {
        "colab": {
          "base_uri": "https://localhost:8080/"
        },
        "id": "JO72doXCfHQK",
        "outputId": "fb5538bf-39f5-4795-9485-11abb2e69379"
      },
      "execution_count": null,
      "outputs": [
        {
          "output_type": "stream",
          "name": "stdout",
          "text": [
            "+--------+-----------+----------+-----+--------+----------+-------------+\n",
            "|order_id|customer_id|   product|price|quantity|order_date|customer_NAME|\n",
            "+--------+-----------+----------+-----+--------+----------+-------------+\n",
            "|    1001|       C001|    Laptop|70000|       1|01-06-2024|     Saravana|\n",
            "|    1002|       C002|Smartphone|30000|       2|02-06-2024|        Sudha|\n",
            "|    1003|       C001|     Mouse|  500|       3|03-06-2024|     Saravana|\n",
            "|    1004|       C003|  Keyboard| 1500|       1|04-06-2024|       Sarvan|\n",
            "|    1005|       C002|   Monitor|12000|       1|05-06-2024|        Sudha|\n",
            "|    1006|       C004|      NULL|45000|       1|06-06-2024|          Ram|\n",
            "|    1007|       C005|    Tablet|25000|    NULL|07-06-2024|          Lav|\n",
            "|    1008|       C001|    Laptop|70000|       1|08-06-2024|     Saravana|\n",
            "|    1009|       C006|Smartwatch| 5000|       1|      NULL|         Chev|\n",
            "|    1010|       C007|     Mouse|  500|       2|10-06-2024|       HeyRam|\n",
            "+--------+-----------+----------+-----+--------+----------+-------------+\n",
            "\n"
          ]
        }
      ]
    },
    {
      "cell_type": "code",
      "source": [
        "data = [(\"Alice\", \"28\"), (\"Bob\", \"25\"), (\"Cathy\", \"30\")]\n",
        "df = spark.createDataFrame(data, [\"name\", \"age\"])\n",
        "\n",
        "df.printSchema()\n",
        "df.show()\n",
        "# Cast 'age' to integer\n",
        "df_casted = df.withColumn(\"age\", col(\"age\").cast(\"integer\"))\n",
        "\n",
        "df_casted.printSchema()\n",
        "df_casted.show()"
      ],
      "metadata": {
        "colab": {
          "base_uri": "https://localhost:8080/"
        },
        "id": "B0qyweOqmUtp",
        "outputId": "63480368-4faf-4335-b743-0243eef114d3"
      },
      "execution_count": null,
      "outputs": [
        {
          "output_type": "stream",
          "name": "stdout",
          "text": [
            "root\n",
            " |-- name: string (nullable = true)\n",
            " |-- age: string (nullable = true)\n",
            "\n",
            "+-----+---+\n",
            "| name|age|\n",
            "+-----+---+\n",
            "|Alice| 28|\n",
            "|  Bob| 25|\n",
            "|Cathy| 30|\n",
            "+-----+---+\n",
            "\n",
            "root\n",
            " |-- name: string (nullable = true)\n",
            " |-- age: integer (nullable = true)\n",
            "\n",
            "+-----+---+\n",
            "| name|age|\n",
            "+-----+---+\n",
            "|Alice| 28|\n",
            "|  Bob| 25|\n",
            "|Cathy| 30|\n",
            "+-----+---+\n",
            "\n"
          ]
        }
      ]
    },
    {
      "cell_type": "code",
      "source": [
        "from pyspark.sql import SparkSession\n",
        "spark=SparkSession.builder.appName(\"RDDHandson\").getOrCreate()\n",
        "sc=spark.sparkContext\n",
        "data=['hello world','welcome to spark','This is a simple handson on spark']\n",
        "rdd=sc.parallelize(data)\n",
        "words=rdd.flatMap(lambda line: line.split(\" \"))\n",
        "pairs=words.map(lambda words: (words,1))\n",
        "counts=pairs.reduceByKey(lambda a,b : (a+b))\n",
        "print(counts.collect())\n"
      ],
      "metadata": {
        "colab": {
          "base_uri": "https://localhost:8080/"
        },
        "id": "YdcMmlrlbxDy",
        "outputId": "a2d64047-1a04-41f9-87f1-fae45b1b49f5"
      },
      "execution_count": 10,
      "outputs": [
        {
          "output_type": "stream",
          "name": "stdout",
          "text": [
            "[('hello', 1), ('world', 1), ('to', 1), ('welcome', 1), ('spark', 2), ('This', 1), ('is', 1), ('a', 1), ('simple', 1), ('handson', 1), ('on', 1)]\n"
          ]
        }
      ]
    },
    {
      "cell_type": "code",
      "source": [
        "from pyspark.sql import SparkSession\n",
        "spark=SparkSession.builder.appName(\"sample\").getOrCreate()\n",
        "sc=spark.sparkContext\n",
        "data=['hello world','welcome to spark world']\n",
        "rdd=sc.parallelize(data)\n",
        "words=rdd.flatMap(lambda line: line.split(\" \"))\n",
        "pairs=words.map(lambda word: (word,1))\n",
        "group=pairs.reduceByKey(lambda a,b: (a+b))\n",
        "print(group.collect())\n"
      ],
      "metadata": {
        "colab": {
          "base_uri": "https://localhost:8080/"
        },
        "id": "edbLFVUMiPOL",
        "outputId": "f9182624-fd22-46ad-d851-8c0b02c95f3e"
      },
      "execution_count": 9,
      "outputs": [
        {
          "output_type": "stream",
          "name": "stdout",
          "text": [
            "[('hello', 1), ('world', 2), ('to', 1), ('welcome', 1), ('spark', 1)]\n"
          ]
        }
      ]
    },
    {
      "cell_type": "code",
      "source": [],
      "metadata": {
        "id": "8ynn6kDUouhx"
      },
      "execution_count": null,
      "outputs": []
    },
    {
      "cell_type": "code",
      "source": [
        "nums=sc.parallelize(['1','1','2','3','3','4','5'])\n",
        "unique=nums.distinct()\n",
        "unique.collect()"
      ],
      "metadata": {
        "colab": {
          "base_uri": "https://localhost:8080/"
        },
        "id": "krlzKOBMcbov",
        "outputId": "b5e1d736-934d-4719-9b02-d50417fbe6c8"
      },
      "execution_count": 10,
      "outputs": [
        {
          "output_type": "execute_result",
          "data": {
            "text/plain": [
              "['3', '4', '5', '1', '2']"
            ]
          },
          "metadata": {},
          "execution_count": 10
        }
      ]
    },
    {
      "cell_type": "code",
      "source": [
        "marks=sc.parallelize(['94','78','100','100','96'])\n",
        "nums_int=marks.map(lambda x:int(x))\n",
        "total=nums_int.reduce(lambda a,b : a+b)\n",
        "avg=total/marks.count()\n",
        "print(avg)"
      ],
      "metadata": {
        "colab": {
          "base_uri": "https://localhost:8080/"
        },
        "id": "sJGP92NUov2F",
        "outputId": "5a1b094a-f978-4263-de92-ef16dd8d8bd6"
      },
      "execution_count": 40,
      "outputs": [
        {
          "output_type": "stream",
          "name": "stdout",
          "text": [
            "93.6\n"
          ]
        }
      ]
    },
    {
      "cell_type": "code",
      "source": [
        "nums=sc.parallelize(range(1,30))\n",
        "pairs=nums.map(lambda nums: ('even', 1) if (nums%2==0) else ('odd',1))\n",
        "\n",
        "groups=pairs.reduceByKey(lambda a,b : a+b)\n",
        "print(groups.collect())"
      ],
      "metadata": {
        "colab": {
          "base_uri": "https://localhost:8080/"
        },
        "id": "MrxXHEVMrXtN",
        "outputId": "f017c376-21cb-49a4-e8d3-3ddfc4c730e3"
      },
      "execution_count": 23,
      "outputs": [
        {
          "output_type": "stream",
          "name": "stdout",
          "text": [
            "[('even', 14), ('odd', 15)]\n"
          ]
        }
      ]
    },
    {
      "cell_type": "code",
      "source": [
        "#finding 3 largest numbers\n",
        "nums=sc.parallelize([10,20,30,60,40,50])\n",
        "larg=nums.takeOrdered(3, key=lambda x: -x)\n",
        "print(larg)"
      ],
      "metadata": {
        "colab": {
          "base_uri": "https://localhost:8080/"
        },
        "id": "uKV__zu7tHFd",
        "outputId": "43259207-44ef-48ef-bd53-5373d0c2ec9c"
      },
      "execution_count": 29,
      "outputs": [
        {
          "output_type": "stream",
          "name": "stdout",
          "text": [
            "[60, 50]\n"
          ]
        }
      ]
    },
    {
      "cell_type": "code",
      "source": [
        "nums=sc.parallelize([10,20,30,60,40,50])\n",
        "larg=nums.takeOrdered(3)\n",
        "print(larg)"
      ],
      "metadata": {
        "colab": {
          "base_uri": "https://localhost:8080/"
        },
        "id": "vRowEbxQt9LB",
        "outputId": "afda0025-1a80-4ffe-9a1c-cd37a32196a3"
      },
      "execution_count": 28,
      "outputs": [
        {
          "output_type": "stream",
          "name": "stdout",
          "text": [
            "[10, 20, 30]\n"
          ]
        }
      ]
    },
    {
      "cell_type": "code",
      "source": [
        "text=\"This is saravanan\"\n",
        "chars=sc.parallelize(list(text.replace(\" \",\"\")))\n",
        "count=chars.countByValue()\n",
        "print(count)"
      ],
      "metadata": {
        "colab": {
          "base_uri": "https://localhost:8080/"
        },
        "id": "mUH1xlRMwqiM",
        "outputId": "b856d28b-2dc1-411e-92fe-b0b789f710f4"
      },
      "execution_count": 33,
      "outputs": [
        {
          "output_type": "stream",
          "name": "stdout",
          "text": [
            "defaultdict(<class 'int'>, {'T': 1, 'h': 1, 'i': 2, 's': 3, 'a': 4, 'r': 1, 'v': 1, 'n': 2})\n"
          ]
        }
      ]
    },
    {
      "cell_type": "code",
      "source": [
        "text=\"This is saravanan\"\n",
        "chars=sc.parallelize(list(text.replace(\" \",\"\")))\n",
        "pair=chars.map(lambda char:(char,1))\n",
        "count=pair.reduceByKey(lambda a,b:a+b)\n",
        "print(count.collect())"
      ],
      "metadata": {
        "colab": {
          "base_uri": "https://localhost:8080/"
        },
        "id": "hBTWkOx5xRzw",
        "outputId": "e27ef48c-b48e-4700-ae9e-7c7102f8e3f3"
      },
      "execution_count": 39,
      "outputs": [
        {
          "output_type": "stream",
          "name": "stdout",
          "text": [
            "[('T', 1), ('h', 1), ('i', 2), ('s', 3), ('a', 4), ('r', 1), ('v', 1), ('n', 2)]\n"
          ]
        }
      ]
    }
  ]
}